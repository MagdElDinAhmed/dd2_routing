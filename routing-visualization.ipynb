{
 "cells": [
  {
   "cell_type": "code",
   "execution_count": 1,
   "id": "a23c177f",
   "metadata": {},
   "outputs": [],
   "source": [
    "import matplotlib.pyplot as plt"
   ]
  },
  {
   "cell_type": "code",
   "execution_count": 2,
   "id": "e0dc5cea",
   "metadata": {},
   "outputs": [],
   "source": [
    "# function to read a file\n",
    "def read_file(file_path):\n",
    "    with open(file_path, \"r\") as file:\n",
    "        return file.read()"
   ]
  },
  {
   "cell_type": "code",
   "execution_count": 3,
   "id": "e69d79ce",
   "metadata": {},
   "outputs": [],
   "source": [
    "input_file = \"input.txt\"\n",
    "output_file = \"output.txt\"\n",
    "\n",
    "# read files\n",
    "input_data = read_file(input_file)\n",
    "output_data = read_file(output_file)"
   ]
  },
  {
   "cell_type": "code",
   "execution_count": 7,
   "id": "73a3c39c",
   "metadata": {},
   "outputs": [],
   "source": [
    "# function to parse the input data\n",
    "def parse_input(input_data):\n",
    "    lines = input_data.strip().split(\"\\n\")\n",
    "    grid_info = list(map(int, lines[0].split(\", \")))\n",
    "    grid_width, grid_height, bend_penalty, via_penalty = grid_info\n",
    "\n",
    "    obstructions = {} # coordinates: color\n",
    "    nets = {} # name: coordinates. The colors are in a different dictionaries indexed by name\n",
    "\n",
    "    # parse obstructions and nets\n",
    "    for line in lines[1:]:\n",
    "        line = line.strip()\n",
    "        if line.startswith(\"OBS\"):\n",
    "            layer, x, y = map(int, line[line.index(\"(\") + 1:line.index(\")\")].split(\",\"))\n",
    "            obstructions[(layer, x, y)] = \"black\"\n",
    "        elif line.startswith(\"net\"):\n",
    "            parts = line.split(\" \", 1)  # Split into net name and rest of the line\n",
    "            net_name = parts[0]\n",
    "            pin_coords = parts[1].split(\") (\")  # Split each pin by \") (\"\n",
    "            pins = [tuple(map(int, coord.replace(\"(\", \"\").replace(\")\", \"\").split(\",\"))) for coord in pin_coords]\n",
    "            nets[net_name] = pins\n",
    "    return grid_width, grid_height, obstructions, nets"
   ]
  },
  {
   "cell_type": "code",
   "execution_count": 8,
   "id": "a941ca64",
   "metadata": {},
   "outputs": [],
   "source": [
    "grid_width, grid_height, obstructions, nets = parse_input(input_data)"
   ]
  },
  {
   "cell_type": "code",
   "execution_count": 9,
   "id": "096702b6",
   "metadata": {},
   "outputs": [
    {
     "data": {
      "text/plain": [
       "300"
      ]
     },
     "execution_count": 9,
     "metadata": {},
     "output_type": "execute_result"
    }
   ],
   "source": [
    "grid_width"
   ]
  },
  {
   "cell_type": "code",
   "execution_count": 10,
   "id": "d89ab0d9",
   "metadata": {},
   "outputs": [
    {
     "data": {
      "text/plain": [
       "200"
      ]
     },
     "execution_count": 10,
     "metadata": {},
     "output_type": "execute_result"
    }
   ],
   "source": [
    "grid_height"
   ]
  },
  {
   "cell_type": "code",
   "execution_count": 11,
   "id": "b464db27",
   "metadata": {},
   "outputs": [
    {
     "data": {
      "text/plain": [
       "{(1, 33, 44): 'black', (2, 55, 77): 'black'}"
      ]
     },
     "execution_count": 11,
     "metadata": {},
     "output_type": "execute_result"
    }
   ],
   "source": [
    "obstructions"
   ]
  },
  {
   "cell_type": "code",
   "execution_count": 12,
   "id": "89634bf8",
   "metadata": {},
   "outputs": [
    {
     "data": {
      "text/plain": [
       "{'net1': [(1, 10, 20), (2, 30, 50), (1, 5, 100)],\n",
       " 'net2': [(2, 100, 200), (1, 300, 50)],\n",
       " 'net3': [(1, 100, 50), (2, 300, 150), (2, 50, 50), (1, 2, 2)]}"
      ]
     },
     "execution_count": 12,
     "metadata": {},
     "output_type": "execute_result"
    }
   ],
   "source": [
    "nets"
   ]
  }
 ],
 "metadata": {
  "kernelspec": {
   "display_name": "Python 3 (ipykernel)",
   "language": "python",
   "name": "python3"
  },
  "language_info": {
   "codemirror_mode": {
    "name": "ipython",
    "version": 3
   },
   "file_extension": ".py",
   "mimetype": "text/x-python",
   "name": "python",
   "nbconvert_exporter": "python",
   "pygments_lexer": "ipython3",
   "version": "3.11.5"
  }
 },
 "nbformat": 4,
 "nbformat_minor": 5
}

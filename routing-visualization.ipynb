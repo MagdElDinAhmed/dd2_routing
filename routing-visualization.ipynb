{
 "cells": [
  {
   "cell_type": "code",
   "execution_count": 1,
   "id": "d3b7bf24",
   "metadata": {},
   "outputs": [],
   "source": [
    "import matplotlib.pyplot as plt"
   ]
  },
  {
   "cell_type": "code",
   "execution_count": 2,
   "id": "9229dd43",
   "metadata": {},
   "outputs": [],
   "source": [
    "# function to read a file\n",
    "def read_file(file_path):\n",
    "    with open(file_path, \"r\") as file:\n",
    "        return file.read()"
   ]
  },
  {
   "cell_type": "code",
   "execution_count": 3,
   "id": "9f505287",
   "metadata": {},
   "outputs": [],
   "source": [
    "input_file = \"input.txt\"\n",
    "output_file = \"output.txt\"\n",
    "\n",
    "# read files\n",
    "input_data = read_file(input_file)\n",
    "output_data = read_file(output_file)"
   ]
  },
  {
   "cell_type": "code",
   "execution_count": 7,
   "id": "a7fd60be",
   "metadata": {},
   "outputs": [],
   "source": [
    "# function to parse the input data\n",
    "def parse_input(input_data):\n",
    "    lines = input_data.strip().split(\"\\n\")\n",
    "    grid_info = list(map(int, lines[0].split(\", \")))\n",
    "    grid_width, grid_height, bend_penalty, via_penalty = grid_info\n",
    "\n",
    "    obstructions = {} # coordinates: color\n",
    "    nets = {} # name: coordinates. The colors are in a different dictionaries indexed by name\n",
    "\n",
    "    # parse obstructions and nets\n",
    "    for line in lines[1:]:\n",
    "        line = line.strip()\n",
    "        if line.startswith(\"OBS\"):\n",
    "            layer, x, y = map(int, line[line.index(\"(\") + 1:line.index(\")\")].split(\",\"))\n",
    "            obstructions[(layer, x, y)] = \"black\"\n",
    "        elif line.startswith(\"net\"):\n",
    "            parts = line.split(\" \", 1)  # Split into net name and rest of the line\n",
    "            net_name = parts[0]\n",
    "            pin_coords = parts[1].split(\") (\")  # Split each pin by \") (\"\n",
    "            pins = [tuple(map(int, coord.replace(\"(\", \"\").replace(\")\", \"\").split(\",\"))) for coord in pin_coords]\n",
    "            nets[net_name] = pins\n",
    "    return grid_width, grid_height, obstructions, nets"
   ]
  },
  {
   "cell_type": "code",
   "execution_count": 33,
   "id": "4cf049c4",
   "metadata": {},
   "outputs": [],
   "source": [
    "# function to parse the output paths/routes data\n",
    "def parse_paths(output_data):\n",
    "    paths = {}\n",
    "    lines = output_data.strip().split(\"\\n\")\n",
    "    for line in lines:\n",
    "        parts = line.split(\" \", 1)\n",
    "        net_name = parts[0]\n",
    "        path_coords = parts[1].split(\") (\")\n",
    "        path = [tuple(map(int, coord.replace(\"(\", \"\").replace(\")\", \"\").split(\",\"))) for coord in path_coords]\n",
    "        paths[net_name] = path\n",
    "    return paths"
   ]
  },
  {
   "cell_type": "code",
   "execution_count": null,
   "id": "254d184b",
   "metadata": {},
   "outputs": [],
   "source": []
  }
 ],
 "metadata": {
  "kernelspec": {
   "display_name": "Python 3 (ipykernel)",
   "language": "python",
   "name": "python3"
  },
  "language_info": {
   "codemirror_mode": {
    "name": "ipython",
    "version": 3
   },
   "file_extension": ".py",
   "mimetype": "text/x-python",
   "name": "python",
   "nbconvert_exporter": "python",
   "pygments_lexer": "ipython3",
   "version": "3.11.5"
  }
 },
 "nbformat": 4,
 "nbformat_minor": 5
}
